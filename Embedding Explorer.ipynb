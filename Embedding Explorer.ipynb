{
 "cells": [
  {
   "cell_type": "code",
   "execution_count": 134,
   "id": "5a9b8312",
   "metadata": {},
   "outputs": [],
   "source": [
    "def get_surrounding_verses(df, verse_id, window_size):\n",
    "    all_verses = list(df['ids'].values)\n",
    "    all_text = list(df['Text'].values)\n",
    "    if verse_id not in all_verses:\n",
    "        return []\n",
    "    \n",
    "    verse_index = all_verses.index(verse_id)\n",
    "    surrounding_verses = []\n",
    "    \n",
    "    start = max(0, verse_index - window_size)\n",
    "    end = min(len(all_verses), verse_index + window_size + 1)\n",
    "    \n",
    "    surrounding_text = all_text[start:end]\n",
    "    verse_range = f\"{all_verses[start]}-{all_verses[end]}\"\n",
    "        \n",
    "    return (verse_range,surrounding_text)\n",
    "\n",
    "def merge(list1, list2):\n",
    "    res = []\n",
    "    for i in range(len(list2[0])):\n",
    "            res.append((list1[0][i],list2[0][i]))\n",
    "   \n",
    "     \n",
    "    return res\n",
    "\n",
    "\n",
    "def make_verses(df,query):\n",
    "    res = []\n",
    "    for verse in query['ids'][0]:\n",
    "        verse,text = get_surrounding_verses(df,verse,5)\n",
    "        res.append((verse,text))\n",
    "        \n",
    "    return res\n",
    "        \n",
    "    \n",
    "\n",
    "def get_embedding(text, model=\"text-embedding-ada-002\"):\n",
    "   text = text.replace(\"\\n\", \" \")\n",
    "   return openai.Embedding.create(input = [text], model=model)['data'][0]['embedding']    "
   ]
  },
  {
   "cell_type": "code",
   "execution_count": 135,
   "id": "21d7840e",
   "metadata": {},
   "outputs": [],
   "source": [
    "import pyarrow.parquet as pq\n",
    "import pandas as pd\n",
    "import pyarrow as pa\n",
    "\n",
    "\n",
    "# Read the parquet file\n",
    "table = pq.read_table('christianity_kjv_verses.parquet')\n",
    "\n",
    "# Convert to pandas DataFrame for easier manipulation\n",
    "df = table.to_pandas()\n",
    "\n",
    "# Create a new 'ids' column\n",
    "df['ids'] = df['Book'].astype(str) + ':' + df['Chapter'].astype(str) + ':' + df['Verse'].astype(str)\n"
   ]
  },
  {
   "cell_type": "code",
   "execution_count": 145,
   "id": "58b37615",
   "metadata": {},
   "outputs": [
    {
     "name": "stderr",
     "output_type": "stream",
     "text": [
      "No embedding_function provided, using default embedding function: DefaultEmbeddingFunction https://huggingface.co/sentence-transformers/all-MiniLM-L6-v2\n"
     ]
    }
   ],
   "source": [
    "import chromadb\n",
    "from chromadb.config import Settings\n",
    "\n",
    "client = chromadb.Client(Settings(\n",
    "    chroma_db_impl=\"duckdb+parquet\",\n",
    "    persist_directory=\"~/chroma\" # Optional, defaults to .chromadb/ in the current directory\n",
    "))\n",
    "collection = client.create_collection(name=\"kjbv\")\n",
    "verse = list(df['Text'])\n",
    "embedding = list(df['Embedding'])\n",
    "ids = list(df['ids'])\n",
    "\n",
    "\n",
    "collection.add(documents=verse,embeddings=embed,ids=ids)"
   ]
  },
  {
   "cell_type": "code",
   "execution_count": 146,
   "id": "652ed5d4",
   "metadata": {},
   "outputs": [
    {
     "data": {
      "text/plain": [
       "' Here are some relevant passages about prayer from the scripture verses provided:\\n\\n\"Pray without ceasing.\" (1 Thessalonians 5:17) \\n\\nThis suggests we should be constantly in an attitude and spirit of prayer, communing with God regularly throughout our day.\\n\\n\"And he said unto them, When ye pray, say, Our Father which art in heaven...\" (Luke 11:2)\\n\\nThis shows that prayer is directed to God our Father in heaven, with reverence and humility. \\n\\n\"And he spake a parable unto them to this end, that men ought always to pray, and not to faint;\" (Luke 18:1) \\n\\nThis parable encourages persistence and perseverance in prayer, not losing heart. \\n\\n\"And Jesus said unto them, Because of your unbelief: for verily I say unto you, If ye have faith as a grain of mustard seed, ye shall say unto this mountain, Remove hence to yonder place; and it shall remove; and nothing shall be impossible unto you. Howbeit this kind goeth not out but by prayer and fasting.\" (Matthew 17:20-21)\\n\\nHere Jesus connects prayer with faith, saying that through faith-filled prayer we can see great things happen, even the impossible. He also links prayer with fasting, implying times of deep and fervent prayer.\\n\\nIn summary, prayer is communing with God, bringing our hearts and minds to Him consistently. It is to be done in reverence, persistence, faith, and sometimes combined with fasting for deeper focus and power. Through prayer we receive strength, wisdom, healing, and the power to overcome even the impossible.'"
      ]
     },
     "execution_count": 146,
     "metadata": {},
     "output_type": "execute_result"
    }
   ],
   "source": [
    "import anthropic\n",
    "import os\n",
    "import openai\n",
    "\n",
    "\n",
    "question = \"What does it mean to pray?\"\n",
    "query = collection.query(    \n",
    "    query_embeddings=get_embedding(question),\n",
    "    n_results=10,\n",
    ")\n",
    "\n",
    "prompt = f'''System: You are a wise AI agent that has been ordained to interpret spirtual scripture and engage in dialetic dialogues with the goal of aiding the user and humandkind.\n",
    "when a user asks a question the system will provide the most related pieces of scripture as context. The user does not have this so do not assume they do and please quote directly. You are to quote those and build a powerful narrative to help enlighten the user. Make sure to include the text quoted for important insights.\n",
    "Remember to stay in character as a wise guru enlightening the user who is a serious student of philosphy.\n",
    "verses: {make_verses(df,query)}\n",
    "question: {question}\n",
    "Dialogue:'''\n",
    "\n",
    "c = anthropic.Client(os.environ[\"ANTHROPIC_API_KEY\"])\n",
    "response = c.completion(\n",
    "                prompt=f\"{anthropic.HUMAN_PROMPT}{prompt}/n{anthropic.AI_PROMPT}\",\n",
    "                stop_sequences=[],\n",
    "                model='claude-2.0',\n",
    "                max_tokens_to_sample=10000)\n",
    "\n",
    "response['completion']"
   ]
  },
  {
   "cell_type": "code",
   "execution_count": null,
   "id": "9209b94d",
   "metadata": {},
   "outputs": [],
   "source": []
  }
 ],
 "metadata": {
  "kernelspec": {
   "display_name": "Python 3 (ipykernel)",
   "language": "python",
   "name": "python3"
  },
  "language_info": {
   "codemirror_mode": {
    "name": "ipython",
    "version": 3
   },
   "file_extension": ".py",
   "mimetype": "text/x-python",
   "name": "python",
   "nbconvert_exporter": "python",
   "pygments_lexer": "ipython3",
   "version": "3.10.5"
  }
 },
 "nbformat": 4,
 "nbformat_minor": 5
}
